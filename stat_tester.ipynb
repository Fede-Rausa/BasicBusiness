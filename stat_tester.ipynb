{
 "cells": [
  {
   "cell_type": "markdown",
   "id": "0a2e0c7c",
   "metadata": {},
   "source": [
    "# data preprocessing: gathering, conversion and merging\n",
    "\n",
    "two data formats:\n",
    "\n",
    "- customer format: each row is a customer, number of columns can vary\n",
    "\n",
    "- dayprod format: each row is a combination product - day, number of columns should be fixed\n",
    "manual modifications from excel should be allowed and suggested.\n",
    "\n",
    "This second format has to contain at least this four columns: Q, P, prod, date\n",
    "(but six are automatically returned from the app, with the addition of n_day_sells and n_day_clients)"
   ]
  },
  {
   "cell_type": "code",
   "execution_count": 2,
   "id": "9c05bc67",
   "metadata": {},
   "outputs": [],
   "source": [
    "import pandas as pd\n",
    "import numpy as np\n",
    "from datetime import datetime\n",
    "import time"
   ]
  },
  {
   "cell_type": "code",
   "execution_count": null,
   "id": "9903099b",
   "metadata": {},
   "outputs": [],
   "source": [
    "\n",
    "dati_dp0 = pd.read_csv('storico_vendite_2021-2023.csv', sep=';')\n",
    "dati_c1 = pd.read_csv('datiCassa_Giugno2025.csv', sep=';')\n",
    "dati_c2 = pd.read_csv('datiCassa_Settembre2024.csv', sep=';')\n",
    "\n",
    "dati_i1 = pd.read_csv('impostazioniCassa_Giugno2025.csv', sep=';')\n",
    "dati_i2 = pd.read_csv('impostazioniCassa2024.csv', sep=';')\n",
    "\n",
    "dati_i1['prezzo'] = dati_i1['prezzo'].str.replace(',', '.').astype(float)\n",
    "dati_i2['prezzo'] = dati_i2['prezzo'].str.replace(',', '.').astype(float)"
   ]
  },
  {
   "cell_type": "code",
   "execution_count": null,
   "id": "ed3ab3ee",
   "metadata": {},
   "outputs": [],
   "source": [
    "# functions to make the conversion\n",
    "\n",
    "def date_miner(df):\n",
    "    if ('date' in df.columns):\n",
    "        format_day = \"%Y-%m-%d\"\n",
    "        weekdays = ['Monday', 'Tuesday', 'Wednesday', 'Thursday', 'Friday', 'Saturday', 'Sunday']\n",
    "        date_obj = [datetime.strptime(date_str, format_day) for date_str in df['date']]\n",
    "        df['day'] = [weekdays[date_o.weekday()] for date_o in date_obj]\n",
    "        df['month'] = [date_o.month for date_o in date_obj]\n",
    "        df['year'] = [date_o.year for date_o in date_obj]\n",
    "    return df\n",
    "\n",
    "def order_cols(df):\n",
    "    first_cols = ['quantity', 'price', 'prod', 'n_day_sells', 'n_day_orders', 'day', 'month', 'year']\n",
    "    df_cols = list(df.columns)\n",
    "    cols = [col for col in first_cols if col in df_cols]\n",
    "    df = df[cols]\n",
    "    return df\n",
    "\n",
    "def save_df(df, name=None):\n",
    "    if name is None:\n",
    "        format_str = \"%Y-%m-%d %H:%M:%S.%f\"\n",
    "        no = datetime.now().strftime(format_str)\n",
    "        no = no.replace(':', '_')\n",
    "        name = 'df_'+no+'.csv'\n",
    "    df.to_csv(name, sep=';', decimal = '.', index=False)\n",
    "\n",
    "\n",
    "def customerData_to_dailyData(orders_df, prod_settings):\n",
    "\n",
    "    ''' beautifoul function that make all the preprocessing from customer data to day product sales data'''\n",
    "\n",
    "    df = orders_df\n",
    "    format_str = \"%Y-%m-%d %H:%M:%S.%f\"\n",
    "    format_day = \"%Y-%m-%d\"\n",
    "\n",
    "    # get dates\n",
    "    date = [datetime.strptime(ts_str, format_str).date().strftime(format_day) for ts_str in df['ts']]\n",
    "    weekdays = ['Monday', 'Tuesday', 'Wednesday', 'Thursday', 'Friday', 'Saturday', 'Sunday']\n",
    "\n",
    "    #get quantity by date and product\n",
    "    cols = list(df.columns)\n",
    "    last_col_id = cols.index('NOTE')\n",
    "    prodcols = [cols[i] for i in range(last_col_id+1, df.shape[1])]\n",
    "\n",
    "    df['date'] = date\n",
    "    df_long = pd.melt(df, \n",
    "                    id_vars=['date'],\n",
    "                    value_vars=prodcols,\n",
    "                    var_name='prod',\n",
    "                    value_name='quantity')\n",
    "\n",
    "    df_agg = df_long.groupby(['prod', 'date'])['quantity'].sum().reset_index()\n",
    "\n",
    "    #get time values\n",
    "    date_obj = [datetime.strptime(date_str, format_day) for date_str in df_agg['date']]\n",
    "    df_agg['day'] = [weekdays[date_o.weekday()] for date_o in date_obj]\n",
    "    df_agg['year'] = [date_o.year for date_o in date_obj]\n",
    "    df_agg['month'] = [date_o.month for date_o in date_obj]\n",
    "\n",
    "    #get price\n",
    "    dizio = dict(zip(prod_settings['prodotto'], prod_settings['prezzo']))\n",
    "    df_agg['price'] = [dizio[o] for o in df_agg['prod']]\n",
    "    df_agg['price'] = df_agg['price'].str.replace(',', '.').astype(float)\n",
    "\n",
    "    #get n_day_sells\n",
    "    date_quantity = df_agg.groupby(['date'])['quantity'].sum().reset_index()\n",
    "    dizio = dict(zip(date_quantity['date'], date_quantity['quantity']))\n",
    "    df_agg['n_day_sells'] = [dizio[o] for o in df_agg['date']]\n",
    "\n",
    "    #get n_day_orders\n",
    "    unici = np.unique(df['date'], return_counts=True)\n",
    "    dizio = dict(zip(unici[0], unici[1]))\n",
    "    df_agg['n_day_orders'] = [dizio[o] for o in df_agg['date']]\n",
    "\n",
    "    #ordering columns\n",
    "    df = df_agg[['quantity', 'price', 'prod', 'n_day_sells', 'n_day_orders', 'day', 'month', 'year']]\n",
    "\n",
    "    return(df_agg)\n",
    "\n"
   ]
  },
  {
   "cell_type": "code",
   "execution_count": 8,
   "id": "34ffa9e2",
   "metadata": {},
   "outputs": [],
   "source": [
    "# convert new dataframes\n",
    "dati_dp1 = customerData_to_dailyData(dati_c1, dati_i1)\n",
    "dati_dp2 = customerData_to_dailyData(dati_c2, dati_i2)\n",
    "\n",
    "# stack dataframes\n",
    "dati_dp0 = date_miner(dati_dp0)\n",
    "dati_dp0['price'] = dati_dp0['price'].str.replace(',', '.').astype(float)\n",
    "dati_dp = order_cols(pd.concat([dati_dp0, dati_dp1, dati_dp2], axis=0, ignore_index=True))"
   ]
  },
  {
   "cell_type": "code",
   "execution_count": 9,
   "id": "c6caa232",
   "metadata": {},
   "outputs": [],
   "source": [
    "save_df(dati_dp, 'storico_vendite_2021-2025.csv')"
   ]
  },
  {
   "cell_type": "code",
   "execution_count": 89,
   "id": "3a77cfde",
   "metadata": {},
   "outputs": [
    {
     "name": "stdout",
     "output_type": "stream",
     "text": [
      "['2025-06-20', '2025-06-20', '2025-06-20', '2025-06-20', '2025-06-20', '2025-06-20', '2025-06-20', '2025-06-20', '2025-06-20', '2025-06-20', '2025-06-20', '2025-06-20', '2025-06-20', '2025-06-20', '2025-06-20', '2025-06-20', '2025-06-20', '2025-06-20', '2025-06-20', '2025-06-20', '2025-06-20', '2025-06-20', '2025-06-20', '2025-06-20', '2025-06-20', '2025-06-20', '2025-06-20', '2025-06-20', '2025-06-20', '2025-06-20', '2025-06-20', '2025-06-20', '2025-06-20', '2025-06-20', '2025-06-20', '2025-06-20', '2025-06-20', '2025-06-20', '2025-06-20', '2025-06-20', '2025-06-20', '2025-06-20', '2025-06-20', '2025-06-20', '2025-06-20', '2025-06-20', '2025-06-20', '2025-06-20', '2025-06-20', '2025-06-20', '2025-06-20', '2025-06-20', '2025-06-20', '2025-06-20', '2025-06-20', '2025-06-20', '2025-06-20']\n",
      "['Friday', 'Friday', 'Friday', 'Friday', 'Friday', 'Friday', 'Friday', 'Friday', 'Friday', 'Friday', 'Friday', 'Friday', 'Friday', 'Friday', 'Friday', 'Friday', 'Friday', 'Friday', 'Friday', 'Friday', 'Friday', 'Friday', 'Friday', 'Friday', 'Friday', 'Friday', 'Friday', 'Friday', 'Friday', 'Friday', 'Friday', 'Friday', 'Friday', 'Friday', 'Friday', 'Friday', 'Friday', 'Friday', 'Friday', 'Friday', 'Friday', 'Friday', 'Friday', 'Friday', 'Friday', 'Friday', 'Friday', 'Friday', 'Friday', 'Friday', 'Friday', 'Friday', 'Friday', 'Friday', 'Friday', 'Friday', 'Friday']\n",
      "[6, 6, 6, 6, 6, 6, 6, 6, 6, 6, 6, 6, 6, 6, 6, 6, 6, 6, 6, 6, 6, 6, 6, 6, 6, 6, 6, 6, 6, 6, 6, 6, 6, 6, 6, 6, 6, 6, 6, 6, 6, 6, 6, 6, 6, 6, 6, 6, 6, 6, 6, 6, 6, 6, 6, 6, 6]\n",
      "[2025, 2025, 2025, 2025, 2025, 2025, 2025, 2025, 2025, 2025, 2025, 2025, 2025, 2025, 2025, 2025, 2025, 2025, 2025, 2025, 2025, 2025, 2025, 2025, 2025, 2025, 2025, 2025, 2025, 2025, 2025, 2025, 2025, 2025, 2025, 2025, 2025, 2025, 2025, 2025, 2025, 2025, 2025, 2025, 2025, 2025, 2025, 2025, 2025, 2025, 2025, 2025, 2025, 2025, 2025, 2025, 2025]\n"
     ]
    }
   ],
   "source": [
    "# convert a single customer format dataset in day-prod format\n",
    "\n",
    "#def customer_format_to_dayprod_format(df):\n",
    "from datetime import datetime\n",
    "\n",
    "# Define the format of the timestamp string\n",
    "format_str = \"%Y-%m-%d %H:%M:%S.%f\"\n",
    "\n",
    "format_day = \"%Y-%m-%d\"\n",
    "\n",
    "df = dati_c1\n",
    "\n",
    "date = [datetime.strptime(ts_str, format_str).date().strftime(format_day) for ts_str in df['ts']]\n",
    "weekdays = ['Monday', 'Tuesday', 'Wednesday', 'Thursday', 'Friday', 'Saturday', 'Sunday']\n",
    "date_obj = [datetime.strptime(date_str, format_day) for date_str in date]\n",
    "days = [weekdays[date_o.weekday()] for date_o in date_obj]\n",
    "years = [date_o.year for date_o in date_obj]\n",
    "months = [date_o.month for date_o in date_obj]\n",
    "\n",
    "print(date)\n",
    "print(days)\n",
    "print(months)\n",
    "print(years)\n",
    "\n",
    "#df['date'] = date\n"
   ]
  },
  {
   "cell_type": "code",
   "execution_count": 90,
   "id": "d31f525e",
   "metadata": {},
   "outputs": [],
   "source": [
    "#get quantity by date and product\n",
    "\n",
    "\n",
    "cols = list(df.columns)\n",
    "last_col_id = cols.index('NOTE')\n",
    "prodcols = [cols[i] for i in range(last_col_id+1, df.shape[1])]\n",
    "\n",
    "df['date'] = date\n",
    "df_long = pd.melt(df, \n",
    "                  id_vars=['date'],\n",
    "                  value_vars=prodcols,\n",
    "                  var_name='prod',\n",
    "                  value_name='quantity')\n",
    "\n",
    "df_agg = df_long.groupby(['prod', 'date'])['quantity'].sum().reset_index()\n"
   ]
  },
  {
   "cell_type": "code",
   "execution_count": 91,
   "id": "5dd5ae0e",
   "metadata": {},
   "outputs": [],
   "source": [
    "#get price\n",
    "\n",
    "dizio = dict(zip(dati_i1['prodotto'], dati_i1['prezzo']))\n",
    "df_agg['price'] = [dizio[o] for o in df_agg['prod']]\n"
   ]
  },
  {
   "cell_type": "code",
   "execution_count": 92,
   "id": "c38e8295",
   "metadata": {},
   "outputs": [],
   "source": [
    "#get n_day_sells\n",
    "\n",
    "date_quantity = df_agg.groupby(['date'])['quantity'].sum().reset_index()\n",
    "\n",
    "dizio = dict(zip(date_quantity['date'], date_quantity['quantity']))\n",
    "df_agg['n_day_sells'] = [dizio[o] for o in df_agg['date']]\n"
   ]
  },
  {
   "cell_type": "code",
   "execution_count": null,
   "id": "25a86474",
   "metadata": {},
   "outputs": [],
   "source": [
    "#get n_day_orders\n",
    "\n",
    "import numpy as np\n",
    "\n",
    "unici = np.unique(df['date'], return_counts=True)\n",
    "dizio = dict(zip(unici[0], unici[1]))\n",
    "\n",
    "df_agg['n_day_orders'] = [dizio[o] for o in df_agg['date']]\n",
    "\n"
   ]
  },
  {
   "cell_type": "code",
   "execution_count": 105,
   "id": "b7d379ed",
   "metadata": {},
   "outputs": [],
   "source": [
    "# stack dataframes\n",
    "\n",
    "dati_dp0 = date_miner(dati_dp0)\n",
    "dati_dp = pd.concat([dati_dp0,dati_dp1,dati_dp2], axis=0, ignore_index=True)\n"
   ]
  },
  {
   "cell_type": "code",
   "execution_count": 81,
   "id": "b818815e",
   "metadata": {},
   "outputs": [
    {
     "name": "stdout",
     "output_type": "stream",
     "text": [
      "    quantity        date                prod  n_day_sells\n",
      "0          1  2025-06-20      anelli cipolla          101\n",
      "1         14  2025-06-20             anguria          101\n",
      "2         11  2025-06-20             churros          101\n",
      "3          2  2025-06-20           cott font          101\n",
      "4          4  2025-06-20           hamburger          101\n",
      "5          8  2025-06-20             hot dog          101\n",
      "6          3  2025-06-20              melone          101\n",
      "7          0  2025-06-20      panc  scamorza          101\n",
      "8          2  2025-06-20          panzerotti          101\n",
      "9         17  2025-06-20            patatine          101\n",
      "10         4  2025-06-20      pianda nutella          101\n",
      "11         9  2025-06-20           salamella          101\n",
      "12         3  2025-06-20   spritz analcolico          101\n",
      "13         1  2025-06-20         vegetariano          101\n",
      "14        13  2025-06-20       virgin mojito          101\n",
      "15         9  2025-06-20  virgin pina colada          101\n"
     ]
    }
   ],
   "source": [
    "print(df_agg[['quantity', 'date', 'prod', 'n_day_sells']])"
   ]
  },
  {
   "cell_type": "code",
   "execution_count": 69,
   "id": "9e85f388",
   "metadata": {},
   "outputs": [
    {
     "name": "stdout",
     "output_type": "stream",
     "text": [
      "['hot dog', 'cott font', 'panc  scamorza', 'vegetariano', 'salamella', 'hamburger', 'patatine', 'panzerotti', 'anelli cipolla', 'anguria', 'melone', 'pianda nutella', 'churros', 'virgin mojito', 'virgin pina colada', 'spritz analcolico']\n"
     ]
    }
   ],
   "source": [
    "cols = list(df.columns)\n",
    "last_col_id = cols.index('NOTE')\n",
    "prodcols = [cols[i] for i in range(last_col_id+1, df.shape[1])]\n",
    "print(prodcols)"
   ]
  },
  {
   "cell_type": "code",
   "execution_count": null,
   "id": "192dea2e",
   "metadata": {},
   "outputs": [
    {
     "name": "stdout",
     "output_type": "stream",
     "text": [
      "         day      prod  quantity\n",
      "0     friday  sandwich         1\n",
      "1     friday  sandwich         2\n",
      "2  wednesday  sandwich         0\n",
      "3     friday     fries         0\n",
      "4     friday     fries         3\n",
      "5  wednesday     fries         1\n",
      "6     friday     water         0\n",
      "7     friday     water         1\n",
      "8  wednesday     water         1\n"
     ]
    }
   ],
   "source": [
    "# aggregate quantities by sum over date and product\n",
    "\n",
    "import pandas as pd\n",
    "import io\n",
    "\n",
    "# Sample data\n",
    "data = \"\"\"sandwich,fries,water,day\n",
    "1,0,0,friday\n",
    "2,3,1,friday\n",
    "0,1,1,wednesday\"\"\"\n",
    "\n",
    "df0 = pd.read_csv(io.StringIO(data))\n",
    "\n",
    "# Use melt to unpivot the DataFrame\n",
    "df_long = pd.melt(df0, \n",
    "                  id_vars=['day'],\n",
    "                  value_vars=['sandwich', 'fries', 'water'],\n",
    "                  var_name='prod',\n",
    "                  value_name='quantity')\n",
    "\n",
    "print(df_long)"
   ]
  },
  {
   "cell_type": "code",
   "execution_count": null,
   "id": "65d668b4",
   "metadata": {},
   "outputs": [],
   "source": []
  },
  {
   "cell_type": "code",
   "execution_count": 25,
   "id": "87a975c3",
   "metadata": {},
   "outputs": [
    {
     "data": {
      "text/plain": [
       "2025"
      ]
     },
     "execution_count": 25,
     "metadata": {},
     "output_type": "execute_result"
    }
   ],
   "source": [
    "datetime.strptime(date[0], format_day).year"
   ]
  },
  {
   "cell_type": "code",
   "execution_count": 23,
   "id": "5b07e40d",
   "metadata": {},
   "outputs": [
    {
     "name": "stdout",
     "output_type": "stream",
     "text": [
      "['Friday', 'Friday', 'Friday', 'Friday', 'Friday', 'Friday', 'Friday', 'Friday', 'Friday', 'Friday', 'Friday', 'Friday', 'Friday', 'Friday', 'Friday', 'Friday', 'Friday', 'Friday', 'Friday', 'Friday', 'Friday', 'Friday', 'Friday', 'Friday', 'Friday', 'Friday', 'Friday', 'Friday', 'Friday', 'Friday', 'Friday', 'Friday', 'Friday', 'Friday', 'Friday', 'Friday', 'Friday', 'Friday', 'Friday', 'Friday', 'Friday', 'Friday', 'Friday', 'Friday', 'Friday', 'Friday', 'Friday', 'Friday', 'Friday', 'Friday', 'Friday', 'Friday', 'Friday', 'Friday', 'Friday', 'Friday', 'Friday']\n"
     ]
    }
   ],
   "source": [
    "weekdays = ['Monday', 'Tuesday', 'Wednesday', 'Thursday', 'Friday', 'Saturday', 'Sunday']\n",
    "\n",
    "days = [weekdays[datetime.strptime(date_str, format_day).weekday()] for date_str in date]\n",
    "\n",
    "print(days)"
   ]
  },
  {
   "cell_type": "code",
   "execution_count": 22,
   "id": "c23d0302",
   "metadata": {},
   "outputs": [
    {
     "name": "stdout",
     "output_type": "stream",
     "text": [
      "2025-06-20\n"
     ]
    }
   ],
   "source": [
    "print(date[0])"
   ]
  },
  {
   "cell_type": "markdown",
   "id": "de1d2241",
   "metadata": {},
   "source": [
    "# forecasting methods\n",
    "\n",
    "workflow:\n",
    "\n",
    "- load data (ready from preprocessing)\n",
    "\n",
    "- choose output variable\n",
    "\n",
    "- choose input variables, and specify if they are numeric or categoric\n",
    "\n",
    "- choose output transforms, in and out\n",
    "\n",
    "- choose forecasting model\n",
    "\n",
    "- make some stats/plots of model performance, and consider train-test split\n",
    "\n",
    "- make the input form and ranges\n",
    "\n",
    "- make predictions for the input forms\n",
    "\n",
    "- transform predictions as output list\n"
   ]
  },
  {
   "cell_type": "code",
   "execution_count": null,
   "id": "38d5c52a",
   "metadata": {},
   "outputs": [],
   "source": [
    "import pandas as pd\n",
    "import numpy as np"
   ]
  },
  {
   "cell_type": "code",
   "execution_count": 10,
   "id": "68ee75e9",
   "metadata": {},
   "outputs": [],
   "source": [
    "# load data\n",
    "import pandas as pd\n",
    "df = pd.read_csv('storico_vendite_2021-2025.csv', sep=';')\n"
   ]
  },
  {
   "cell_type": "code",
   "execution_count": 11,
   "id": "7b94ba7d",
   "metadata": {},
   "outputs": [],
   "source": [
    "# choose output\n",
    "\n",
    "output = df['quantity'].astype(float)\n",
    "\n",
    "# choose output transform\n",
    "\n",
    "mode = 'log' #'ratio'\n",
    "\n",
    "if mode=='log':\n",
    "    y = output\n",
    "    y0 = np.log(1+y)\n",
    "    y1 = np.exp(y0) - 1\n",
    "else:\n",
    "    if mode=='ratio':\n",
    "        base = df['n_day_sells']\n",
    "        y = output\n",
    "        y0 = y/base\n",
    "        y1 = y0*base\n",
    "\n",
    "\n",
    "\n",
    "# choose input variables and types\n",
    "\n",
    "numcols = ['price']\n",
    "\n",
    "catcols = ['day', 'prod']\n",
    "\n",
    "df_input = df[numcols+catcols]\n"
   ]
  },
  {
   "cell_type": "code",
   "execution_count": null,
   "id": "cceda4ec",
   "metadata": {},
   "outputs": [
    {
     "data": {
      "text/html": [
       "<style>#sk-container-id-5 {color: black;}#sk-container-id-5 pre{padding: 0;}#sk-container-id-5 div.sk-toggleable {background-color: white;}#sk-container-id-5 label.sk-toggleable__label {cursor: pointer;display: block;width: 100%;margin-bottom: 0;padding: 0.3em;box-sizing: border-box;text-align: center;}#sk-container-id-5 label.sk-toggleable__label-arrow:before {content: \"▸\";float: left;margin-right: 0.25em;color: #696969;}#sk-container-id-5 label.sk-toggleable__label-arrow:hover:before {color: black;}#sk-container-id-5 div.sk-estimator:hover label.sk-toggleable__label-arrow:before {color: black;}#sk-container-id-5 div.sk-toggleable__content {max-height: 0;max-width: 0;overflow: hidden;text-align: left;background-color: #f0f8ff;}#sk-container-id-5 div.sk-toggleable__content pre {margin: 0.2em;color: black;border-radius: 0.25em;background-color: #f0f8ff;}#sk-container-id-5 input.sk-toggleable__control:checked~div.sk-toggleable__content {max-height: 200px;max-width: 100%;overflow: auto;}#sk-container-id-5 input.sk-toggleable__control:checked~label.sk-toggleable__label-arrow:before {content: \"▾\";}#sk-container-id-5 div.sk-estimator input.sk-toggleable__control:checked~label.sk-toggleable__label {background-color: #d4ebff;}#sk-container-id-5 div.sk-label input.sk-toggleable__control:checked~label.sk-toggleable__label {background-color: #d4ebff;}#sk-container-id-5 input.sk-hidden--visually {border: 0;clip: rect(1px 1px 1px 1px);clip: rect(1px, 1px, 1px, 1px);height: 1px;margin: -1px;overflow: hidden;padding: 0;position: absolute;width: 1px;}#sk-container-id-5 div.sk-estimator {font-family: monospace;background-color: #f0f8ff;border: 1px dotted black;border-radius: 0.25em;box-sizing: border-box;margin-bottom: 0.5em;}#sk-container-id-5 div.sk-estimator:hover {background-color: #d4ebff;}#sk-container-id-5 div.sk-parallel-item::after {content: \"\";width: 100%;border-bottom: 1px solid gray;flex-grow: 1;}#sk-container-id-5 div.sk-label:hover label.sk-toggleable__label {background-color: #d4ebff;}#sk-container-id-5 div.sk-serial::before {content: \"\";position: absolute;border-left: 1px solid gray;box-sizing: border-box;top: 0;bottom: 0;left: 50%;z-index: 0;}#sk-container-id-5 div.sk-serial {display: flex;flex-direction: column;align-items: center;background-color: white;padding-right: 0.2em;padding-left: 0.2em;position: relative;}#sk-container-id-5 div.sk-item {position: relative;z-index: 1;}#sk-container-id-5 div.sk-parallel {display: flex;align-items: stretch;justify-content: center;background-color: white;position: relative;}#sk-container-id-5 div.sk-item::before, #sk-container-id-5 div.sk-parallel-item::before {content: \"\";position: absolute;border-left: 1px solid gray;box-sizing: border-box;top: 0;bottom: 0;left: 50%;z-index: -1;}#sk-container-id-5 div.sk-parallel-item {display: flex;flex-direction: column;z-index: 1;position: relative;background-color: white;}#sk-container-id-5 div.sk-parallel-item:first-child::after {align-self: flex-end;width: 50%;}#sk-container-id-5 div.sk-parallel-item:last-child::after {align-self: flex-start;width: 50%;}#sk-container-id-5 div.sk-parallel-item:only-child::after {width: 0;}#sk-container-id-5 div.sk-dashed-wrapped {border: 1px dashed gray;margin: 0 0.4em 0.5em 0.4em;box-sizing: border-box;padding-bottom: 0.4em;background-color: white;}#sk-container-id-5 div.sk-label label {font-family: monospace;font-weight: bold;display: inline-block;line-height: 1.2em;}#sk-container-id-5 div.sk-label-container {text-align: center;}#sk-container-id-5 div.sk-container {/* jupyter's `normalize.less` sets `[hidden] { display: none; }` but bootstrap.min.css set `[hidden] { display: none !important; }` so we also need the `!important` here to be able to override the default hidden behavior on the sphinx rendered scikit-learn.org. See: https://github.com/scikit-learn/scikit-learn/issues/21755 */display: inline-block !important;position: relative;}#sk-container-id-5 div.sk-text-repr-fallback {display: none;}</style><div id=\"sk-container-id-5\" class=\"sk-top-container\"><div class=\"sk-text-repr-fallback\"><pre>RandomForestRegressor(n_estimators=200, oob_score=True, random_state=0)</pre><b>In a Jupyter environment, please rerun this cell to show the HTML representation or trust the notebook. <br />On GitHub, the HTML representation is unable to render, please try loading this page with nbviewer.org.</b></div><div class=\"sk-container\" hidden><div class=\"sk-item\"><div class=\"sk-estimator sk-toggleable\"><input class=\"sk-toggleable__control sk-hidden--visually\" id=\"sk-estimator-id-5\" type=\"checkbox\" checked><label for=\"sk-estimator-id-5\" class=\"sk-toggleable__label sk-toggleable__label-arrow\">RandomForestRegressor</label><div class=\"sk-toggleable__content\"><pre>RandomForestRegressor(n_estimators=200, oob_score=True, random_state=0)</pre></div></div></div></div></div>"
      ],
      "text/plain": [
       "RandomForestRegressor(n_estimators=200, oob_score=True, random_state=0)"
      ]
     },
     "execution_count": 24,
     "metadata": {},
     "output_type": "execute_result"
    }
   ],
   "source": [
    "from sklearn.ensemble import RandomForestRegressor\n",
    "from sklearn.preprocessing import LabelEncoder\n",
    "\n",
    "\n",
    "label_encoder = LabelEncoder()\n",
    "x_categorical = df_input.select_dtypes(include=['object']).apply(label_encoder.fit_transform)\n",
    "x_numerical = df_input.select_dtypes(exclude=['object']).values\n",
    "x0 = pd.concat([pd.DataFrame(x_numerical), x_categorical], axis=1).values\n",
    "\n",
    "regressor = RandomForestRegressor(n_estimators=200, random_state=0, oob_score=True, )\n",
    "\n",
    "regressor.fit(x0, y0)"
   ]
  },
  {
   "cell_type": "code",
   "execution_count": 25,
   "id": "16875166",
   "metadata": {},
   "outputs": [
    {
     "name": "stdout",
     "output_type": "stream",
     "text": [
      "Out-of-Bag Score: 0.3947851928600523\n",
      "Mean Squared Error: 99.92915974809927\n",
      "Root Mean Squared Error: 9.996457359890016\n",
      "R-squared: 0.7996135351880156\n"
     ]
    }
   ],
   "source": [
    "from sklearn.metrics import mean_squared_error, r2_score\n",
    "\n",
    "oob_score = regressor.oob_score_\n",
    "print(f'Out-of-Bag Score: {oob_score}')\n",
    "\n",
    "preds = regressor.predict(x0)\n",
    "\n",
    "if mode=='log':\n",
    "    y1 = np.exp(preds) - 1\n",
    "else:\n",
    "    if mode=='ratio':\n",
    "        y1 = preds*base\n",
    "\n",
    "mse = mean_squared_error(y, y1)\n",
    "print(f'Mean Squared Error: {mse}')\n",
    "print(f'Root Mean Squared Error: {np.sqrt(mse)}')\n",
    "\n",
    "r2 = r2_score(y, y1)\n",
    "print(f'R-squared: {r2}')"
   ]
  },
  {
   "cell_type": "code",
   "execution_count": null,
   "id": "204d0764",
   "metadata": {},
   "outputs": [
    {
     "data": {
      "image/png": "[encoded data removed]",
      "text/plain": [
       "<Figure size 640x480 with 1 Axes>"
      ]
     },
     "metadata": {},
     "output_type": "display_data"
    }
   ],
   "source": [
    "import numpy as np\n",
    "import matplotlib.pyplot as plt\n",
    "   \n",
    "\n",
    "plt.scatter(y, y1, color='blue')\n",
    "plt.title(\"Random Forest Regression Results\")\n",
    "plt.xlabel('predicted')\n",
    "plt.ylabel('real')\n",
    "plt.show()"
   ]
  },
  {
   "cell_type": "code",
   "execution_count": null,
   "id": "f93b8f4b",
   "metadata": {},
   "outputs": [
    {
     "name": "stdout",
     "output_type": "stream",
     "text": [
      "Collecting scikit-learnNote: you may need to restart the kernel to use updated packages.\n",
      "\n",
      "  Using cached scikit_learn-1.3.2-cp38-cp38-win_amd64.whl (9.3 MB)\n",
      "Collecting scipy>=1.5.0\n",
      "  Using cached scipy-1.10.1-cp38-cp38-win_amd64.whl (42.2 MB)\n",
      "Collecting threadpoolctl>=2.0.0\n",
      "  Using cached threadpoolctl-3.5.0-py3-none-any.whl (18 kB)\n",
      "Collecting joblib>=1.1.1\n",
      "  Using cached joblib-1.4.2-py3-none-any.whl (301 kB)\n",
      "Requirement already satisfied: numpy<2.0,>=1.17.3 in c:\\users\\feder\\onedrive\\documenti\\fede\\programmi_idea\\python script\\tkinter\\cassapanini\\cassapaninoteca06_github\\venv\\lib\\site-packages (from scikit-learn) (1.24.4)\n",
      "Installing collected packages: scipy, threadpoolctl, joblib, scikit-learn\n",
      "Successfully installed joblib-1.4.2 scikit-learn-1.3.2 scipy-1.10.1 threadpoolctl-3.5.0\n"
     ]
    },
    {
     "name": "stderr",
     "output_type": "stream",
     "text": [
      "WARNING: You are using pip version 20.1.1; however, version 25.0.1 is available.\n",
      "You should consider upgrading via the 'c:\\Users\\feder\\OneDrive\\Documenti\\Fede\\programmi_idea\\Python script\\tkinter\\cassaPanini\\cassaPaninoteca06_github\\venv\\Scripts\\python.exe -m pip install --upgrade pip' command.\n"
     ]
    }
   ],
   "source": [
    "# run inside jupiter notebook:\n",
    "# %pip install scikit-learn"
   ]
  },
  {
   "cell_type": "code",
   "execution_count": 15,
   "id": "51723485",
   "metadata": {},
   "outputs": [
    {
     "name": "stdout",
     "output_type": "stream",
     "text": [
      "1.3.2\n"
     ]
    }
   ],
   "source": [
    "import sklearn\n",
    "print(sklearn.__version__)"
   ]
  },
  {
   "cell_type": "code",
   "execution_count": 16,
   "id": "6bba9354",
   "metadata": {},
   "outputs": [],
   "source": [
    "import sklearn"
   ]
  },
  {
   "cell_type": "code",
   "execution_count": null,
   "id": "cc1be2b9",
   "metadata": {},
   "outputs": [],
   "source": []
  }
 ],
 "metadata": {
  "kernelspec": {
   "display_name": "venv",
   "language": "python",
   "name": "python3"
  },
  "language_info": {
   "codemirror_mode": {
    "name": "ipython",
    "version": 3
   },
   "file_extension": ".py",
   "mimetype": "text/x-python",
   "name": "python",
   "nbconvert_exporter": "python",
   "pygments_lexer": "ipython3",
   "version": "3.8.5"
  }
 },
 "nbformat": 4,
 "nbformat_minor": 5
}
