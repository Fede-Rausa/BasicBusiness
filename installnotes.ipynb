{
 "cells": [
  {
   "cell_type": "code",
   "execution_count": 3,
   "id": "c1448522",
   "metadata": {},
   "outputs": [
    {
     "ename": "KeyError",
     "evalue": "'USB001'",
     "output_type": "error",
     "traceback": [
      "\u001b[1;31m---------------------------------------------------------------------------\u001b[0m",
      "\u001b[1;31mKeyError\u001b[0m                                  Traceback (most recent call last)",
      "Cell \u001b[1;32mIn[3], line 5\u001b[0m\n\u001b[0;32m      2\u001b[0m \u001b[38;5;28;01mfrom\u001b[39;00m\u001b[38;5;250m \u001b[39m\u001b[38;5;21;01mescpos\u001b[39;00m\u001b[38;5;21;01m.\u001b[39;00m\u001b[38;5;21;01mprinter\u001b[39;00m\u001b[38;5;250m \u001b[39m\u001b[38;5;28;01mimport\u001b[39;00m Usb\n\u001b[0;32m      4\u001b[0m \u001b[38;5;124;03m\"\"\" Seiko Epson Corp. Receipt Printer (EPSON TM-T88III) \"\"\"\u001b[39;00m\n\u001b[1;32m----> 5\u001b[0m p \u001b[38;5;241m=\u001b[39m \u001b[43mUsb\u001b[49m\u001b[43m(\u001b[49m\u001b[38;5;241;43m0x04b8\u001b[39;49m\u001b[43m,\u001b[49m\u001b[43m \u001b[49m\u001b[38;5;241;43m0x0202\u001b[39;49m\u001b[43m,\u001b[49m\u001b[43m \u001b[49m\u001b[38;5;241;43m0\u001b[39;49m\u001b[43m,\u001b[49m\u001b[43m \u001b[49m\u001b[43mprofile\u001b[49m\u001b[38;5;241;43m=\u001b[39;49m\u001b[38;5;124;43m\"\u001b[39;49m\u001b[38;5;124;43mUSB001\u001b[39;49m\u001b[38;5;124;43m\"\u001b[39;49m\u001b[43m)\u001b[49m\n\u001b[0;32m      6\u001b[0m p\u001b[38;5;241m.\u001b[39mtext(\u001b[38;5;124m\"\u001b[39m\u001b[38;5;124mHello World\u001b[39m\u001b[38;5;130;01m\\n\u001b[39;00m\u001b[38;5;124m\"\u001b[39m)\n",
      "File \u001b[1;32mc:\\Users\\feder\\OneDrive\\Documenti\\Fede\\programmi_idea\\Python script\\tkinter\\cassaPanini\\cassaPaninoteca06_github\\venv\\lib\\site-packages\\escpos\\printer.py:42\u001b[0m, in \u001b[0;36mUsb.__init__\u001b[1;34m(self, idVendor, idProduct, usb_args, timeout, in_ep, out_ep, *args, **kwargs)\u001b[0m\n\u001b[0;32m     32\u001b[0m \u001b[38;5;28;01mdef\u001b[39;00m\u001b[38;5;250m \u001b[39m\u001b[38;5;21m__init__\u001b[39m(\u001b[38;5;28mself\u001b[39m, idVendor, idProduct, usb_args\u001b[38;5;241m=\u001b[39m\u001b[38;5;28;01mNone\u001b[39;00m, timeout\u001b[38;5;241m=\u001b[39m\u001b[38;5;241m0\u001b[39m, in_ep\u001b[38;5;241m=\u001b[39m\u001b[38;5;241m0x82\u001b[39m, out_ep\u001b[38;5;241m=\u001b[39m\u001b[38;5;241m0x01\u001b[39m,\n\u001b[0;32m     33\u001b[0m              \u001b[38;5;241m*\u001b[39margs, \u001b[38;5;241m*\u001b[39m\u001b[38;5;241m*\u001b[39mkwargs):  \u001b[38;5;66;03m# noqa: N803\u001b[39;00m\n\u001b[0;32m     34\u001b[0m \u001b[38;5;250m    \u001b[39m\u001b[38;5;124;03m\"\"\"\u001b[39;00m\n\u001b[0;32m     35\u001b[0m \u001b[38;5;124;03m    :param idVendor: Vendor ID\u001b[39;00m\n\u001b[0;32m     36\u001b[0m \u001b[38;5;124;03m    :param idProduct: Product ID\u001b[39;00m\n\u001b[1;32m   (...)\u001b[0m\n\u001b[0;32m     40\u001b[0m \u001b[38;5;124;03m    :param out_ep: Output end point\u001b[39;00m\n\u001b[0;32m     41\u001b[0m \u001b[38;5;124;03m    \"\"\"\u001b[39;00m\n\u001b[1;32m---> 42\u001b[0m     \u001b[43mEscpos\u001b[49m\u001b[38;5;241;43m.\u001b[39;49m\u001b[38;5;21;43m__init__\u001b[39;49m\u001b[43m(\u001b[49m\u001b[38;5;28;43mself\u001b[39;49m\u001b[43m,\u001b[49m\u001b[43m \u001b[49m\u001b[38;5;241;43m*\u001b[39;49m\u001b[43margs\u001b[49m\u001b[43m,\u001b[49m\u001b[43m \u001b[49m\u001b[38;5;241;43m*\u001b[39;49m\u001b[38;5;241;43m*\u001b[39;49m\u001b[43mkwargs\u001b[49m\u001b[43m)\u001b[49m\n\u001b[0;32m     43\u001b[0m     \u001b[38;5;28mself\u001b[39m\u001b[38;5;241m.\u001b[39mtimeout \u001b[38;5;241m=\u001b[39m timeout\n\u001b[0;32m     44\u001b[0m     \u001b[38;5;28mself\u001b[39m\u001b[38;5;241m.\u001b[39min_ep \u001b[38;5;241m=\u001b[39m in_ep\n",
      "File \u001b[1;32mc:\\Users\\feder\\OneDrive\\Documenti\\Fede\\programmi_idea\\Python script\\tkinter\\cassaPanini\\cassaPaninoteca06_github\\venv\\lib\\site-packages\\escpos\\escpos.py:52\u001b[0m, in \u001b[0;36mEscpos.__init__\u001b[1;34m(self, profile, magic_encode_args, **kwargs)\u001b[0m\n\u001b[0;32m     48\u001b[0m \u001b[38;5;28;01mdef\u001b[39;00m\u001b[38;5;250m \u001b[39m\u001b[38;5;21m__init__\u001b[39m(\u001b[38;5;28mself\u001b[39m, profile\u001b[38;5;241m=\u001b[39m\u001b[38;5;28;01mNone\u001b[39;00m, magic_encode_args\u001b[38;5;241m=\u001b[39m\u001b[38;5;28;01mNone\u001b[39;00m, \u001b[38;5;241m*\u001b[39m\u001b[38;5;241m*\u001b[39mkwargs):\n\u001b[0;32m     49\u001b[0m \u001b[38;5;250m    \u001b[39m\u001b[38;5;124;03m\"\"\" Initialize ESCPOS Printer\u001b[39;00m\n\u001b[0;32m     50\u001b[0m \n\u001b[0;32m     51\u001b[0m \u001b[38;5;124;03m    :param profile: Printer profile\"\"\"\u001b[39;00m\n\u001b[1;32m---> 52\u001b[0m     \u001b[38;5;28mself\u001b[39m\u001b[38;5;241m.\u001b[39mprofile \u001b[38;5;241m=\u001b[39m \u001b[43mget_profile\u001b[49m\u001b[43m(\u001b[49m\u001b[43mprofile\u001b[49m\u001b[43m)\u001b[49m\n\u001b[0;32m     53\u001b[0m     \u001b[38;5;28mself\u001b[39m\u001b[38;5;241m.\u001b[39mmagic \u001b[38;5;241m=\u001b[39m MagicEncode(\u001b[38;5;28mself\u001b[39m, \u001b[38;5;241m*\u001b[39m\u001b[38;5;241m*\u001b[39m(magic_encode_args \u001b[38;5;129;01mor\u001b[39;00m {}))\n",
      "File \u001b[1;32mc:\\Users\\feder\\OneDrive\\Documenti\\Fede\\programmi_idea\\Python script\\tkinter\\cassaPanini\\cassaPaninoteca06_github\\venv\\lib\\site-packages\\escpos\\capabilities.py:101\u001b[0m, in \u001b[0;36mget_profile\u001b[1;34m(name, **kwargs)\u001b[0m\n\u001b[0;32m     98\u001b[0m \u001b[38;5;28;01mif\u001b[39;00m \u001b[38;5;28misinstance\u001b[39m(name, Profile):\n\u001b[0;32m     99\u001b[0m     \u001b[38;5;28;01mreturn\u001b[39;00m name\n\u001b[1;32m--> 101\u001b[0m clazz \u001b[38;5;241m=\u001b[39m \u001b[43mget_profile_class\u001b[49m\u001b[43m(\u001b[49m\u001b[43mname\u001b[49m\u001b[43m \u001b[49m\u001b[38;5;129;43;01mor\u001b[39;49;00m\u001b[43m \u001b[49m\u001b[38;5;124;43m'\u001b[39;49m\u001b[38;5;124;43mdefault\u001b[39;49m\u001b[38;5;124;43m'\u001b[39;49m\u001b[43m)\u001b[49m\n\u001b[0;32m    102\u001b[0m \u001b[38;5;28;01mreturn\u001b[39;00m clazz(\u001b[38;5;241m*\u001b[39m\u001b[38;5;241m*\u001b[39mkwargs)\n",
      "File \u001b[1;32mc:\\Users\\feder\\OneDrive\\Documenti\\Fede\\programmi_idea\\Python script\\tkinter\\cassaPanini\\cassaPaninoteca06_github\\venv\\lib\\site-packages\\escpos\\capabilities.py:113\u001b[0m, in \u001b[0;36mget_profile_class\u001b[1;34m(name)\u001b[0m\n\u001b[0;32m    109\u001b[0m \u001b[38;5;250m\u001b[39m\u001b[38;5;124;03m\"\"\"For the given profile name, load the data from the external\u001b[39;00m\n\u001b[0;32m    110\u001b[0m \u001b[38;5;124;03mdatabase, then generate dynamically a class.\u001b[39;00m\n\u001b[0;32m    111\u001b[0m \u001b[38;5;124;03m\"\"\"\u001b[39;00m\n\u001b[0;32m    112\u001b[0m \u001b[38;5;28;01mif\u001b[39;00m name \u001b[38;5;129;01mnot\u001b[39;00m \u001b[38;5;129;01min\u001b[39;00m CLASS_CACHE:\n\u001b[1;32m--> 113\u001b[0m     profile_data \u001b[38;5;241m=\u001b[39m \u001b[43mPROFILES\u001b[49m\u001b[43m[\u001b[49m\u001b[43mname\u001b[49m\u001b[43m]\u001b[49m\n\u001b[0;32m    114\u001b[0m     profile_name \u001b[38;5;241m=\u001b[39m clean(name)\n\u001b[0;32m    115\u001b[0m     class_name \u001b[38;5;241m=\u001b[39m \u001b[38;5;124m'\u001b[39m\u001b[38;5;132;01m{}\u001b[39;00m\u001b[38;5;132;01m{}\u001b[39;00m\u001b[38;5;124mProfile\u001b[39m\u001b[38;5;124m'\u001b[39m\u001b[38;5;241m.\u001b[39mformat(\n\u001b[0;32m    116\u001b[0m         profile_name[\u001b[38;5;241m0\u001b[39m]\u001b[38;5;241m.\u001b[39mupper(), profile_name[\u001b[38;5;241m1\u001b[39m:])\n",
      "\u001b[1;31mKeyError\u001b[0m: 'USB001'"
     ]
    }
   ],
   "source": [
    "import escpos\n",
    "from escpos.printer import Usb\n",
    "\n",
    "\"\"\" Seiko Epson Corp. Receipt Printer (EPSON TM-T88III) \"\"\"\n",
    "p = Usb(0x04b8, 0x0202, 0, profile=\"USB001\")\n",
    "p.text(\"Hello World\\n\")\n",
    "\n",
    "\n"
   ]
  },
  {
   "cell_type": "code",
   "execution_count": null,
   "id": "fe69ca27",
   "metadata": {},
   "outputs": [],
   "source": [
    "from escpos.printer import Usb\n",
    "\n",
    "\n",
    "from escpos import *\n",
    "\"\"\" Seiko Epson Corp. Receipt Printer M129 Definitions (EPSON TM-T88IV) \"\"\"\n",
    "p = printer.Usb(0x04b8, 0x0202, profile=\"TM-T88IV\")\n"
   ]
  },
  {
   "cell_type": "code",
   "execution_count": null,
   "id": "2f005a7e",
   "metadata": {},
   "outputs": [],
   "source": [
    "def getAllPrinters():\n",
    "    dev = usb.core.find(find_all=1)\n",
    "    # loop through devices, printing vendor and product ids in decimal and hex\n",
    "    for cfg in dev:\n",
    "        sys.stdout.write('Hexadecimal VendorID=' + hex(cfg.idVendor) + ' & ProductID=' + hex(cfg.idProduct) + '\\n')\n",
    "        sys.stdout.write(\"Address=\" + str(cfg.address) + '\\n')\n",
    "        sys.stdout.write(\"Bus=\" + str(cfg.bus) + '\\n'+\"\\n\")"
   ]
  },
  {
   "cell_type": "code",
   "execution_count": 2,
   "id": "e9dc2a34",
   "metadata": {},
   "outputs": [
    {
     "name": "stdout",
     "output_type": "stream",
     "text": [
      "Note: you may need to restart the kernel to use updated packages.Collecting escpos\n",
      "  Downloading escpos-1.9.tar.gz (208 kB)\n",
      "Collecting pyusb>=1.0.0\n",
      "  Downloading pyusb-1.2.1-py3-none-any.whl (58 kB)\n",
      "Requirement already satisfied: Pillow>=2.0 in c:\\users\\feder\\onedrive\\documenti\\fede\\programmi_idea\\python script\\tkinter\\cassapanini\\cassapaninoteca06_github\\venv\\lib\\site-packages (from escpos) (10.4.0)\n",
      "Collecting qrcode>=4.0\n",
      "  Downloading qrcode-7.4.2-py3-none-any.whl (46 kB)\n",
      "Collecting pyserial\n",
      "  Using cached pyserial-3.5-py2.py3-none-any.whl (90 kB)\n",
      "Collecting python-barcode<1,>=0.9.1\n",
      "  Downloading python_barcode-0.16.0-py3-none-any.whl (214 kB)\n",
      "Requirement already satisfied: setuptools in c:\\users\\feder\\onedrive\\documenti\\fede\\programmi_idea\\python script\\tkinter\\cassapanini\\cassapaninoteca06_github\\venv\\lib\\site-packages (from escpos) (47.1.0)\n",
      "Requirement already satisfied: six in c:\\users\\feder\\onedrive\\documenti\\fede\\programmi_idea\\python script\\tkinter\\cassapanini\\cassapaninoteca06_github\\venv\\lib\\site-packages (from escpos) (1.17.0)\n",
      "Collecting appdirs\n",
      "  Using cached appdirs-1.4.4-py2.py3-none-any.whl (9.6 kB)\n",
      "Collecting PyYAML\n",
      "  Using cached PyYAML-6.0.2-cp38-cp38-win_amd64.whl (162 kB)\n",
      "Collecting argparse\n",
      "  Downloading argparse-1.4.0-py2.py3-none-any.whl (23 kB)\n",
      "Collecting argcomplete\n",
      "  Downloading argcomplete-3.6.2-py3-none-any.whl (43 kB)\n",
      "Collecting future\n",
      "  Downloading future-1.0.0-py3-none-any.whl (491 kB)\n",
      "Collecting viivakoodi>=0.8\n",
      "  Downloading viivakoodi-0.8.0.tar.gz (224 kB)\n",
      "Requirement already satisfied: colorama; platform_system == \"Windows\" in c:\\users\\feder\\onedrive\\documenti\\fede\\programmi_idea\\python script\\tkinter\\cassapanini\\cassapaninoteca06_github\\venv\\lib\\site-packages (from qrcode>=4.0->escpos) (0.4.6)\n",
      "Requirement already satisfied: typing-extensions in c:\\users\\feder\\onedrive\\documenti\\fede\\programmi_idea\\python script\\tkinter\\cassapanini\\cassapaninoteca06_github\\venv\\lib\\site-packages (from qrcode>=4.0->escpos) (4.13.2)\n",
      "Collecting pypng\n",
      "  Downloading pypng-0.20220715.0-py3-none-any.whl (58 kB)\n",
      "Using legacy setup.py install for escpos, since package 'wheel' is not installed.\n",
      "Using legacy setup.py install for viivakoodi, since package 'wheel' is not installed.\n",
      "Installing collected packages: pyusb, pypng, qrcode, pyserial, python-barcode, appdirs, PyYAML, argparse, argcomplete, future, viivakoodi, escpos\n",
      "    Running setup.py install for viivakoodi: started\n",
      "    Running setup.py install for viivakoodi: finished with status 'done'\n",
      "    Running setup.py install for escpos: started\n",
      "    Running setup.py install for escpos: finished with status 'done'\n",
      "Successfully installed PyYAML-6.0.2 appdirs-1.4.4 argcomplete-3.6.2 argparse-1.4.0 escpos-1.9 future-1.0.0 pypng-0.20220715.0 pyserial-3.5 python-barcode-0.16.0 pyusb-1.2.1 qrcode-7.4.2 viivakoodi-0.8.0\n",
      "\n"
     ]
    },
    {
     "name": "stderr",
     "output_type": "stream",
     "text": [
      "WARNING: You are using pip version 20.1.1; however, version 25.0.1 is available.\n",
      "You should consider upgrading via the 'c:\\Users\\feder\\OneDrive\\Documenti\\Fede\\programmi_idea\\Python script\\tkinter\\cassaPanini\\cassaPaninoteca06_github\\venv\\Scripts\\python.exe -m pip install --upgrade pip' command.\n"
     ]
    }
   ],
   "source": [
    "%pip install escpos"
   ]
  }
 ],
 "metadata": {
  "kernelspec": {
   "display_name": "venv",
   "language": "python",
   "name": "python3"
  },
  "language_info": {
   "codemirror_mode": {
    "name": "ipython",
    "version": 3
   },
   "file_extension": ".py",
   "mimetype": "text/x-python",
   "name": "python",
   "nbconvert_exporter": "python",
   "pygments_lexer": "ipython3",
   "version": "3.8.5"
  }
 },
 "nbformat": 4,
 "nbformat_minor": 5
}
